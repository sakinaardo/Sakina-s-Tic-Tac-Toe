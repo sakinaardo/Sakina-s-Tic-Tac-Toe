{
 "cells": [
  {
   "cell_type": "markdown",
   "metadata": {},
   "source": [
    "Milestone Project 1 You've already learned a ton and are ready to work on a real project. Your assignment: Create a Tic Tac Toe game. You are free to use any IDE you like. Here are the requirements: 2 players should be able to play the game (both sitting at the same computer) The board should be printed out every time a player makes a move You should be able to accept input of the player position and then place a symbol on the board"
   ]
  },
  {
   "cell_type": "markdown",
   "metadata": {},
   "source": [
    "Step 1: Write a function that can print out a board. Set up your board as a list, where each index 1-9 corresponds with a number on a number pad, so you get a 3 by 3 board representation."
   ]
  },
  {
   "cell_type": "code",
   "execution_count": 92,
   "metadata": {},
   "outputs": [],
   "source": [
    "from IPython.display import clear_output\n",
    "\n",
    "def display_board(board):\n",
    "    \n",
    "    print(board[7] + '|' + board[8] + '|' + board[9])\n",
    "    print('-----')\n",
    "    print(board[4] + '|' + board[5] + '|' + board[6])\n",
    "    print('-----')\n",
    "    print(board[1] + '|' + board[2] + '|' + board[3])\n"
   ]
  },
  {
   "cell_type": "code",
   "execution_count": 93,
   "metadata": {},
   "outputs": [
    {
     "name": "stdout",
     "output_type": "stream",
     "text": [
      "X|O|X\n",
      "-----\n",
      "O|X|O\n",
      "-----\n",
      "X|O|X\n"
     ]
    }
   ],
   "source": [
    "test_board = ['#', 'X', 'O', 'X', 'O', 'X', 'O', 'X','O', 'X']\n",
    "display_board(test_board)"
   ]
  },
  {
   "cell_type": "markdown",
   "metadata": {},
   "source": [
    "Step 2: Write a function that can take in a player input and assign their marker as 'X' or 'O'. Think about using while loops to continually ask until you get a correct answer."
   ]
  },
  {
   "cell_type": "code",
   "execution_count": 94,
   "metadata": {},
   "outputs": [],
   "source": [
    "def player_input():\n",
    "    \n",
    "    #create an empty string for marker and use a while loop to check for X or O. \n",
    "    #Then use an if else statement to return the desired arrangement for the two players\n",
    "    \n",
    "    marker = ' '\n",
    "    \n",
    "    while not (marker == 'X' or marker == 'O'):\n",
    "        marker = input('Player 1 please input X or O:')\n",
    "     \n",
    "    \n",
    "    player1 = marker\n",
    "    \n",
    "    if player1 == 'X':\n",
    "        player2 = 'O'\n",
    "    else:\n",
    "        player2 = 'X'\n",
    "        \n",
    "    return(player1, player2)"
   ]
  },
  {
   "cell_type": "code",
   "execution_count": 95,
   "metadata": {},
   "outputs": [
    {
     "name": "stdout",
     "output_type": "stream",
     "text": [
      "Player 1 please input X or O:X\n"
     ]
    }
   ],
   "source": [
    "player1_marker, player2_marker = player_input()"
   ]
  },
  {
   "cell_type": "markdown",
   "metadata": {},
   "source": [
    "Step 3: Write a function that takes in the board list object, a marker ('X' or 'O'), and a desired position (number 1-9) and assigns it to the board"
   ]
  },
  {
   "cell_type": "code",
   "execution_count": 96,
   "metadata": {},
   "outputs": [],
   "source": [
    "def place_marker(board, marker, position):\n",
    "     board[position] = marker"
   ]
  },
  {
   "cell_type": "code",
   "execution_count": 97,
   "metadata": {},
   "outputs": [
    {
     "name": "stdout",
     "output_type": "stream",
     "text": [
      "X|$|X\n",
      "-----\n",
      "O|X|O\n",
      "-----\n",
      "X|O|X\n"
     ]
    }
   ],
   "source": [
    "place_marker(test_board,'$',8)\n",
    "display_board(test_board)"
   ]
  },
  {
   "cell_type": "markdown",
   "metadata": {},
   "source": [
    "Step 4: Write a function that takes in a board and a mark (X or O) and then checks to see if that mark has won."
   ]
  },
  {
   "cell_type": "code",
   "execution_count": 98,
   "metadata": {},
   "outputs": [],
   "source": [
    "def win_check(board, mark):\n",
    "    return ((board[7] == mark == board[8] == mark == board[9]) or # across the top\n",
    "            (board[4] == mark == board[5] == mark == board[6]) or #across the middle\n",
    "            (board[1] == mark == board[2] == mark == board[3]) or #across the bottom\n",
    "            (board[9] == mark == board[6] == mark == board[3]) or #from top right to down\n",
    "            (board[8] == mark == board[5] == mark == board[2]) or #from top middle to the bottom\n",
    "            (board[7] == mark == board[4] == mark == board[1]) or #from top middle to the bottom\n",
    "            (board[7] == mark == board[5] == mark == board[3]) or #from top middle to the bottom\n",
    "            (board[9] == mark == board[5] == mark == board[1]))    #from top middle to the bottom"
   ]
  },
  {
   "cell_type": "code",
   "execution_count": 99,
   "metadata": {},
   "outputs": [
    {
     "name": "stdout",
     "output_type": "stream",
     "text": [
      "X|$|X\n",
      "-----\n",
      "O|X|O\n",
      "-----\n",
      "X|O|X\n"
     ]
    },
    {
     "data": {
      "text/plain": [
       "True"
      ]
     },
     "execution_count": 99,
     "metadata": {},
     "output_type": "execute_result"
    }
   ],
   "source": [
    "display_board(test_board)\n",
    "win_check(test_board,'X')"
   ]
  },
  {
   "cell_type": "markdown",
   "metadata": {},
   "source": [
    "Step 5: Write a function that uses the random module to randomly decide which player goes first. You may want to lookup random.randint() Return a string of which player went first."
   ]
  },
  {
   "cell_type": "markdown",
   "metadata": {},
   "source": [
    "Step 6: Write a function that returns a boolean indicating whether a space on the board is freely available."
   ]
  },
  {
   "cell_type": "code",
   "execution_count": 100,
   "metadata": {},
   "outputs": [],
   "source": [
    "import random\n",
    "\n",
    "def choose_first():\n",
    "     if random.randint(0,1) == 0:\n",
    "        return 'player1'\n",
    "     else:\n",
    "        return 'Player2'"
   ]
  },
  {
   "cell_type": "code",
   "execution_count": 101,
   "metadata": {},
   "outputs": [
    {
     "data": {
      "text/plain": [
       "'player1'"
      ]
     },
     "execution_count": 101,
     "metadata": {},
     "output_type": "execute_result"
    }
   ],
   "source": [
    "choose_first()"
   ]
  },
  {
   "cell_type": "code",
   "execution_count": 102,
   "metadata": {},
   "outputs": [],
   "source": [
    "def space_check(board, position):\n",
    "    return board[position] == ' '"
   ]
  },
  {
   "cell_type": "markdown",
   "metadata": {},
   "source": [
    "Step 7: Write a function that checks if the board is full and returns a boolean value. True if full, False otherwise."
   ]
  },
  {
   "cell_type": "code",
   "execution_count": 103,
   "metadata": {},
   "outputs": [],
   "source": [
    "def full_board_check(board):\n",
    "    #use a for loop to check that in the range from 1-9 on the board\n",
    "    #use an if statememt to check the board with space_check\n",
    "    \n",
    "    for i in range(1,10):\n",
    "        if space_check(board, i):\n",
    "            return False\n",
    "    return True"
   ]
  },
  {
   "cell_type": "markdown",
   "metadata": {},
   "source": [
    "Step 8: Write a function that asks for a player's next position (as a number 1-9) and then uses the function from step 6 to check if it's a free position. If it is, then return the position for later use."
   ]
  },
  {
   "cell_type": "code",
   "execution_count": 104,
   "metadata": {},
   "outputs": [],
   "source": [
    "def player_choice(board):\n",
    "    \n",
    "   #start at a position 0\n",
    "   #use a while loop to ensure that the postion is between 1-9 and the space_check is true\n",
    "   #return the position\n",
    "    position = 0\n",
    "    \n",
    "    while position not in [1,2,3,4,5,6,7,8,9] or not space_check(board, position):\n",
    "        position = int(input('Please enter a number from 1-9'))\n",
    "    return position"
   ]
  },
  {
   "cell_type": "markdown",
   "metadata": {},
   "source": [
    "Step 9: Write a function that asks the player if they want to play again and returns a boolean True if they do want to play again."
   ]
  },
  {
   "cell_type": "code",
   "execution_count": 105,
   "metadata": {},
   "outputs": [],
   "source": [
    "def replay():\n",
    "    return input('Do you want to play again? Enter Yes or No: ').lower().startswith('y')"
   ]
  },
  {
   "cell_type": "raw",
   "metadata": {},
   "source": [
    "Step 10: Use while loops and the functions you've made to run the game!"
   ]
  },
  {
   "cell_type": "code",
   "execution_count": 106,
   "metadata": {},
   "outputs": [
    {
     "name": "stdout",
     "output_type": "stream",
     "text": [
      "Welcome to Tic Tac Toe by Sakina Ardo!\n",
      "Player 1 please input X or O:X\n",
      "Player2 will go first.\n",
      "Ready to play the game? Enter Yes or Noyes\n",
      " | | \n",
      "-----\n",
      " | | \n",
      "-----\n",
      " | | \n",
      "Please enter a number from 1-91\n",
      " | | \n",
      "-----\n",
      " | | \n",
      "-----\n",
      "O| | \n",
      "Please enter a number from 1-92\n",
      " | | \n",
      "-----\n",
      " | | \n",
      "-----\n",
      "O|X| \n",
      "Please enter a number from 1-93\n",
      " | | \n",
      "-----\n",
      " | | \n",
      "-----\n",
      "O|X|O\n",
      "Please enter a number from 1-94\n",
      " | | \n",
      "-----\n",
      "X| | \n",
      "-----\n",
      "O|X|O\n",
      "Please enter a number from 1-95\n",
      " | | \n",
      "-----\n",
      "X|O| \n",
      "-----\n",
      "O|X|O\n",
      "Please enter a number from 1-96\n",
      " | | \n",
      "-----\n",
      "X|O|X\n",
      "-----\n",
      "O|X|O\n",
      "Please enter a number from 1-98\n",
      " |O| \n",
      "-----\n",
      "X|O|X\n",
      "-----\n",
      "O|X|O\n",
      "Please enter a number from 1-99\n",
      " |O|X\n",
      "-----\n",
      "X|O|X\n",
      "-----\n",
      "O|X|O\n",
      "Please enter a number from 1-97\n",
      "O|O|X\n",
      "-----\n",
      "X|O|X\n",
      "-----\n",
      "O|X|O\n",
      "PLAYER 1 HAS WON\n",
      "Do you want to play again? Enter Yes or No: yes\n",
      "Player 1 please input X or O:X\n",
      "player1 will go first.\n",
      "Ready to play the game? Enter Yes or Noyes\n",
      " | | \n",
      "-----\n",
      " | | \n",
      "-----\n",
      " | | \n",
      "Please enter a number from 1-91\n",
      " | | \n",
      "-----\n",
      " | | \n",
      "-----\n",
      "X| | \n",
      "Please enter a number from 1-97\n",
      "O| | \n",
      "-----\n",
      " | | \n",
      "-----\n",
      "X| | \n",
      "Please enter a number from 1-95\n",
      "O| | \n",
      "-----\n",
      " |X| \n",
      "-----\n",
      "X| | \n",
      "Please enter a number from 1-99\n",
      "O| |O\n",
      "-----\n",
      " |X| \n",
      "-----\n",
      "X| | \n",
      "Please enter a number from 1-98\n",
      "O|X|O\n",
      "-----\n",
      " |X| \n",
      "-----\n",
      "X| | \n",
      "Please enter a number from 1-92\n",
      "O|X|O\n",
      "-----\n",
      " |X| \n",
      "-----\n",
      "X|O| \n",
      "Please enter a number from 1-93\n",
      "O|X|O\n",
      "-----\n",
      " |X| \n",
      "-----\n",
      "X|O|X\n",
      "Please enter a number from 1-96\n",
      "O|X|O\n",
      "-----\n",
      " |X|O\n",
      "-----\n",
      "X|O|X\n",
      "Please enter a number from 1-94\n",
      "O|X|O\n",
      "-----\n",
      "X|X|O\n",
      "-----\n",
      "X|O|X\n",
      "TIE GAME\n",
      "Do you want to play again? Enter Yes or No: No\n"
     ]
    }
   ],
   "source": [
    "print('Welcome to Tic Tac Toe by Sakina Ardo!')\n",
    "\n",
    "\n",
    "while True:\n",
    "    \n",
    "    #Set the game up\n",
    "    the_board = [' '] *10\n",
    "    \n",
    "    \n",
    "    player1_marker, player2_marker = player_input()\n",
    "    \n",
    "    #Ask who should choose first\n",
    "    turn = choose_first()\n",
    "    print(turn +  ' will go first.')\n",
    "    \n",
    "    \n",
    "    #Set up an if else statement to ask user if they want to play a game\n",
    "    play_game = input('Ready to play the game? Enter Yes or No')\n",
    "    \n",
    "    if play_game.lower()[0] == 'y':\n",
    "        game_on = True\n",
    "    else:\n",
    "        game_on = False\n",
    "    \n",
    "    #GAME PLAY\n",
    "    \n",
    "    while game_on:\n",
    "        \n",
    "        #Player 1 Turn\n",
    "        #Ask if it is player one's turn\n",
    "         if turn == 'player1':\n",
    "                #Show the board\n",
    "                display_board(the_board)\n",
    "                #Choose a position\n",
    "                position = player_choice(the_board)\n",
    "                #Place the marker on the position\n",
    "                place_marker(the_board, player1_marker, position)\n",
    "                \n",
    "                #Check to see of his mark has created a win = use an if else statement\n",
    "                \n",
    "                if win_check(the_board,player1_marker):\n",
    "                    display_board(the_board)\n",
    "                    print('PLAYER 1 HAS WON!')\n",
    "                    game_on = False\n",
    "                else:\n",
    "                    if full_board_check(the_board):\n",
    "                        display_board(the_board)\n",
    "                        print('TIE GAME')\n",
    "                        break\n",
    "                    else:\n",
    "                        turn = 'player2'\n",
    "        \n",
    "        \n",
    "            #Player2's Turn\n",
    "         else:\n",
    "                #Show the board\n",
    "                display_board(the_board)\n",
    "                #Choose a position\n",
    "                position = player_choice(the_board)\n",
    "                #Place the marker on the position\n",
    "                place_marker(the_board, player2_marker, position)\n",
    "                \n",
    "                #Check to see of his mark has created a win = use an if else statement\n",
    "                \n",
    "                if win_check(the_board,player2_marker):\n",
    "                    display_board(the_board)\n",
    "                    print('PLAYER 1 HAS WON')\n",
    "                    game_on = False\n",
    "                else:\n",
    "                    if full_board_check(the_board):\n",
    "                        display_board(the_board)\n",
    "                        print('TIE GAME')\n",
    "                        break\n",
    "                    else:\n",
    "                        turn = 'player1'\n",
    "            #pass\n",
    "        \n",
    "    if not replay():\n",
    "            break"
   ]
  },
  {
   "cell_type": "markdown",
   "metadata": {},
   "source": []
  }
 ],
 "metadata": {
  "kernelspec": {
   "display_name": "Python 3",
   "language": "python",
   "name": "python3"
  },
  "language_info": {
   "codemirror_mode": {
    "name": "ipython",
    "version": 3
   },
   "file_extension": ".py",
   "mimetype": "text/x-python",
   "name": "python",
   "nbconvert_exporter": "python",
   "pygments_lexer": "ipython3",
   "version": "3.6.6"
  }
 },
 "nbformat": 4,
 "nbformat_minor": 2
}
